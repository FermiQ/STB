{
 "cells": [
  {
   "cell_type": "code",
   "execution_count": 1,
   "metadata": {
    "collapsed": true
   },
   "outputs": [],
   "source": [
    "import matplotlib.pyplot as plt\n",
    "import numpy as np"
   ]
  },
  {
   "cell_type": "code",
   "execution_count": 28,
   "metadata": {},
   "outputs": [
    {
     "data": {
      "image/png": "[encoded data removed]",
      "text/plain": [
       "<matplotlib.figure.Figure at 0x7f86f7c1fa10>"
      ]
     },
     "metadata": {},
     "output_type": "display_data"
    }
   ],
   "source": [
    "def hexa_grid(l, n, origin, sty=\"b.\"):\n",
    "    deg_60 = 60.0 * np.pi / 180.0\n",
    "    vec1 = l * np.array([1.0, 0.0])\n",
    "    vec2 = l * np.array([0.5, np.sin(deg_60)])\n",
    "    \n",
    "    for i in range(-n, n+1,1):\n",
    "        for j in range(-n, n+1,1):\n",
    "            pt = origin + i * vec1 + j * vec2\n",
    "            plt.plot(pt[0], pt[1], sty)\n",
    "            \n",
    "def honey_grid(a, n):\n",
    "    deg_30 = 30.0 * np.pi / 180.0\n",
    "    l = 2 * a * np.cos(deg_30)\n",
    "    hexa_grid(l, n, np.array([0.0,  a]), 'b.')\n",
    "    hexa_grid(l, n, np.array([0.0, -a]), 'r.')\n",
    "\n",
    "origin = np.array([0.0, 0.0])\n",
    "\n",
    "plt.figure(figsize=(8.267, 11.692 ))\n",
    "\n",
    "plt.xlim(8.267*np.array([-1,1]))\n",
    "plt.ylim(11.692*np.array([-1,1]))\n",
    "honey_grid(1, 15)\n",
    "#plt.axes().set_aspect('equal')\n",
    "plt.savefig(\"/home/matthias/Pictures/honey.pdf\")\n",
    "plt.show()"
   ]
  },
  {
   "cell_type": "code",
   "execution_count": null,
   "metadata": {
    "collapsed": true
   },
   "outputs": [],
   "source": []
  }
 ],
 "metadata": {
  "kernelspec": {
   "display_name": "Python 2",
   "language": "python",
   "name": "python2"
  },
  "language_info": {
   "codemirror_mode": {
    "name": "ipython",
    "version": 2
   },
   "file_extension": ".py",
   "mimetype": "text/x-python",
   "name": "python",
   "nbconvert_exporter": "python",
   "pygments_lexer": "ipython2",
   "version": "2.7.13"
  }
 },
 "nbformat": 4,
 "nbformat_minor": 2
}
