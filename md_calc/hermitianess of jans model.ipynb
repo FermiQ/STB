{
 "cells": [
  {
   "cell_type": "code",
   "execution_count": 1,
   "metadata": {
    "collapsed": true
   },
   "outputs": [],
   "source": [
    "import numpy as np"
   ]
  },
  {
   "cell_type": "code",
   "execution_count": 4,
   "metadata": {
    "collapsed": true
   },
   "outputs": [],
   "source": [
    "sigma_x = np.array([[0.,1.],[1.,0.]])\n",
    "sigma_y = np.array([[0.,-1j],[1j,0.]])"
   ]
  },
  {
   "cell_type": "code",
   "execution_count": 31,
   "metadata": {},
   "outputs": [],
   "source": [
    "pos = np.array([[0.0, 0.0, 0.0],\n",
    "                [1.0, 1.0, 0.0]])\n",
    "t_so = 1.0\n",
    "def h(i, alpha, j, beta):\n",
    "    d_ij = pos[i,:] - pos[j,:]\n",
    "    print(\"d_ij\")\n",
    "    print(d_ij)\n",
    "    print(\"sigma_x = {}\".format(sigma_x[alpha, beta]))\n",
    "    print(\"sigma_y = {}\".format(sigma_y[alpha, beta]))\n",
    "    return 1j * t_so * ( sigma_x[alpha, beta] * d_ij[1] - sigma_y[alpha, beta] * d_ij[0])"
   ]
  },
  {
   "cell_type": "code",
   "execution_count": 34,
   "metadata": {},
   "outputs": [
    {
     "name": "stdout",
     "output_type": "stream",
     "text": [
      "d_ij\n",
      "[-1. -1.  0.]\n",
      "sigma_x = 1.0\n",
      "sigma_y = -1j\n",
      "(1-1j)\n",
      "\n",
      "d_ij\n",
      "[ 1.  1.  0.]\n",
      "sigma_x = 1.0\n",
      "sigma_y = 1j\n",
      "(1+1j)\n",
      "\n",
      "d_ij\n",
      "[ 0.  0.  0.]\n",
      "sigma_x = 0.0\n",
      "sigma_y = 0j\n",
      "0j\n",
      "\n",
      "d_ij\n",
      "[ 0.  0.  0.]\n",
      "sigma_x = 0.0\n",
      "sigma_y = 0j\n",
      "0j\n",
      "\n",
      "d_ij\n",
      "[ 1.  1.  0.]\n",
      "sigma_x = 1.0\n",
      "sigma_y = -1j\n",
      "(-1+1j)\n",
      "\n",
      "d_ij\n",
      "[-1. -1.  0.]\n",
      "sigma_x = 1.0\n",
      "sigma_y = 1j\n",
      "(-1-1j)\n",
      "\n",
      "d_ij\n",
      "[ 0.  0.  0.]\n",
      "sigma_x = 0.0\n",
      "sigma_y = 0j\n",
      "0j\n",
      "\n",
      "d_ij\n",
      "[ 0.  0.  0.]\n",
      "sigma_x = 0.0\n",
      "sigma_y = 0j\n",
      "0j\n",
      "\n"
     ]
    }
   ],
   "source": [
    "print(h(0,0,1,1))\n",
    "print \"\"\n",
    "print(h(1,1,0,0))\n",
    "print \"\"\n",
    "\n",
    "print(h(0,0,0,0))\n",
    "print \"\"\n",
    "print(h(1,1,1,1))\n",
    "print \"\"\n",
    "\n",
    "print(h(1,0,0,1))\n",
    "print \"\"\n",
    "print(h(0,1,1,0))\n",
    "print \"\"\n",
    "\n",
    "print(h(1,0,1,0))\n",
    "print \"\"\n",
    "print(h(0,1,0,1))\n",
    "print \"\""
   ]
  },
  {
   "cell_type": "code",
   "execution_count": 9,
   "metadata": {},
   "outputs": [
    {
     "data": {
      "text/plain": [
       "array([ 0.,  0.,  0.])"
      ]
     },
     "execution_count": 9,
     "metadata": {},
     "output_type": "execute_result"
    }
   ],
   "source": [
    "pos[0,:]"
   ]
  },
  {
   "cell_type": "code",
   "execution_count": null,
   "metadata": {
    "collapsed": true
   },
   "outputs": [],
   "source": []
  }
 ],
 "metadata": {
  "kernelspec": {
   "display_name": "Python 2",
   "language": "python",
   "name": "python2"
  },
  "language_info": {
   "codemirror_mode": {
    "name": "ipython",
    "version": 2
   },
   "file_extension": ".py",
   "mimetype": "text/x-python",
   "name": "python",
   "nbconvert_exporter": "python",
   "pygments_lexer": "ipython2",
   "version": "2.7.13"
  }
 },
 "nbformat": 4,
 "nbformat_minor": 2
}
